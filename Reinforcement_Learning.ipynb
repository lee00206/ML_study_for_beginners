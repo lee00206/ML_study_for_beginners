{
  "nbformat": 4,
  "nbformat_minor": 0,
  "metadata": {
    "colab": {
      "name": "Reinforcement_Learning.ipynb",
      "provenance": [],
      "collapsed_sections": [],
      "authorship_tag": "ABX9TyPvIJ9sTtenEzW+psiu0ylr",
      "include_colab_link": true
    },
    "kernelspec": {
      "name": "python3",
      "display_name": "Python 3"
    }
  },
  "cells": [
    {
      "cell_type": "markdown",
      "metadata": {
        "id": "view-in-github",
        "colab_type": "text"
      },
      "source": [
        "<a href=\"https://colab.research.google.com/github/lee00206/Tensorflow_tutorial/blob/main/Reinforcement_Learning.ipynb\" target=\"_parent\"><img src=\"https://colab.research.google.com/assets/colab-badge.svg\" alt=\"Open In Colab\"/></a>"
      ]
    },
    {
      "cell_type": "markdown",
      "metadata": {
        "id": "5e9umeRZA1h3"
      },
      "source": [
        "# **Q-Learning**\n",
        "For this section, Q-Learning algorithm will be used to train an agent to navigate a popular environment from the Open AI Gym."
      ]
    },
    {
      "cell_type": "code",
      "metadata": {
        "id": "DdCGeOy1wE2d"
      },
      "source": [
        "import gym\n",
        "import numpy as np\n",
        "import time"
      ],
      "execution_count": 1,
      "outputs": []
    },
    {
      "cell_type": "code",
      "metadata": {
        "id": "arx6jyQNBMh9"
      },
      "source": [
        "# load an environment\n",
        "env = gym.make('FrozenLake-v0')   # FrozenLake environment"
      ],
      "execution_count": 2,
      "outputs": []
    },
    {
      "cell_type": "code",
      "metadata": {
        "colab": {
          "base_uri": "https://localhost:8080/"
        },
        "id": "_Gf3pUMvBXKg",
        "outputId": "0507437b-a58d-4d22-a67a-b14cd7153281"
      },
      "source": [
        "# get number of states\n",
        "print(env.observation_space.n)\n",
        "\n",
        "# get number of actions\n",
        "print(env.action_space.n)"
      ],
      "execution_count": 3,
      "outputs": [
        {
          "output_type": "stream",
          "text": [
            "16\n",
            "4\n"
          ],
          "name": "stdout"
        }
      ]
    },
    {
      "cell_type": "code",
      "metadata": {
        "colab": {
          "base_uri": "https://localhost:8080/"
        },
        "id": "xm4lkPsUBwXp",
        "outputId": "3cd38ac1-03f6-4874-bcda-f3d55ccf161b"
      },
      "source": [
        "# reset environment to default state\n",
        "env.reset()"
      ],
      "execution_count": 4,
      "outputs": [
        {
          "output_type": "execute_result",
          "data": {
            "text/plain": [
              "0"
            ]
          },
          "metadata": {
            "tags": []
          },
          "execution_count": 4
        }
      ]
    },
    {
      "cell_type": "code",
      "metadata": {
        "colab": {
          "base_uri": "https://localhost:8080/"
        },
        "id": "DIUjWAKNB1ps",
        "outputId": "b77c277f-f5b2-4760-a642-030f51fbd4ee"
      },
      "source": [
        "# get a random action\n",
        "action = env.action_space.sample()\n",
        "print(action)"
      ],
      "execution_count": 5,
      "outputs": [
        {
          "output_type": "stream",
          "text": [
            "3\n"
          ],
          "name": "stdout"
        }
      ]
    },
    {
      "cell_type": "code",
      "metadata": {
        "id": "6uut85ITB5Eg"
      },
      "source": [
        "# take action\n",
        "new_state, reward, done, info = env.step(action)  # returns information about the action\n",
        "                                                  # done: bool; did we lose the game or win the game"
      ],
      "execution_count": 6,
      "outputs": []
    },
    {
      "cell_type": "code",
      "metadata": {
        "colab": {
          "base_uri": "https://localhost:8080/"
        },
        "id": "lywmxZF2CUkI",
        "outputId": "ce8c4e3e-231c-426e-b5b1-94361b0136bc"
      },
      "source": [
        "# render the GUI for the environment\n",
        "env.render()    # F: Frozen environment, H: Hole, G: Goal"
      ],
      "execution_count": 7,
      "outputs": [
        {
          "output_type": "stream",
          "text": [
            "  (Up)\n",
            "\u001b[41mS\u001b[0mFFF\n",
            "FHFH\n",
            "FFFH\n",
            "HFFG\n"
          ],
          "name": "stdout"
        }
      ]
    },
    {
      "cell_type": "markdown",
      "metadata": {
        "id": "lZ2cTs41Cpsn"
      },
      "source": [
        "## **Frozen Lake Environment**\n",
        "The environment that was loaded above FrozenLake-vo is one of the most simple environments in Open AI Gym. The goal of the agent is to navigate a frozen lake and find the Goal withut falling through the ice (render the environment above to see an example).<br>\n",
        "There are:\n",
        "* 16 states (one for each square)\n",
        "* 4 possible actions (LEFT, RIGHT, DOWN, UP)\n",
        "* 4 different types of blocks (F: frozen, H: hole, S: start, G: goal)"
      ]
    },
    {
      "cell_type": "markdown",
      "metadata": {
        "id": "LBbH1hovDHof"
      },
      "source": [
        "## **Building the Q-Table**"
      ]
    },
    {
      "cell_type": "code",
      "metadata": {
        "id": "70f3Jcb3DQMa"
      },
      "source": [
        "# build an empty Q-Table that can be used to store and update the values\n",
        "env = gym.make(\"FrozenLake-v0\")\n",
        "STATES = env.observation_space.n\n",
        "ACTIONS = env.action_space.n"
      ],
      "execution_count": 8,
      "outputs": []
    },
    {
      "cell_type": "code",
      "metadata": {
        "colab": {
          "base_uri": "https://localhost:8080/"
        },
        "id": "ELH4h7wyDhc0",
        "outputId": "8689959f-9e4e-4201-cbf8-8fc781a9ce63"
      },
      "source": [
        "# create a matrix with all 0 values -> initialize all blank values because it is the beginning of the learning\n",
        "Q = np.zeros((STATES, ACTIONS))\n",
        "Q"
      ],
      "execution_count": 9,
      "outputs": [
        {
          "output_type": "execute_result",
          "data": {
            "text/plain": [
              "array([[0., 0., 0., 0.],\n",
              "       [0., 0., 0., 0.],\n",
              "       [0., 0., 0., 0.],\n",
              "       [0., 0., 0., 0.],\n",
              "       [0., 0., 0., 0.],\n",
              "       [0., 0., 0., 0.],\n",
              "       [0., 0., 0., 0.],\n",
              "       [0., 0., 0., 0.],\n",
              "       [0., 0., 0., 0.],\n",
              "       [0., 0., 0., 0.],\n",
              "       [0., 0., 0., 0.],\n",
              "       [0., 0., 0., 0.],\n",
              "       [0., 0., 0., 0.],\n",
              "       [0., 0., 0., 0.],\n",
              "       [0., 0., 0., 0.],\n",
              "       [0., 0., 0., 0.]])"
            ]
          },
          "metadata": {
            "tags": []
          },
          "execution_count": 9
        }
      ]
    },
    {
      "cell_type": "markdown",
      "metadata": {
        "id": "NobHVARLEHSY"
      },
      "source": [
        "## **Constants**\n",
        "Define some constants that will be used to update the Q-Table and tell the agent when to stop training."
      ]
    },
    {
      "cell_type": "code",
      "metadata": {
        "id": "y_yDxkXNEXYJ"
      },
      "source": [
        "EPISODES = 10000  # how many times to run the environment from the beginning\n",
        "MAX_STEPS = 100   # max number of steps allowed for each run of environment\n",
        "\n",
        "LEARNING_RATE = 0.81\n",
        "GAMMA = 0.96  # the bigger the gamma is, the more it puts the weight on the future rewards"
      ],
      "execution_count": 11,
      "outputs": []
    },
    {
      "cell_type": "markdown",
      "metadata": {
        "id": "y_AL9HnxFQyr"
      },
      "source": [
        "## **Picking an Action**\n",
        "It is available to pick an action using one of two methods:\n",
        "1. Randomly picking a valid action\n",
        "2. Using the current Q-Table to find the best action"
      ]
    },
    {
      "cell_type": "code",
      "metadata": {
        "id": "kV15IadIWZag"
      },
      "source": [
        "# define a new value ε that will tell the probability of selecting a random action\n",
        "# ε will start off very high and slowly decrease as the agent learns more about the environment\n",
        "\n",
        "epsilon = 0.9   # start with a 90% chance of picking a random action and 10% chance to look at the Q-Table\n",
        "\n",
        "# code to pick action\n",
        "if np.random.uniform(0, 1) < epsilon:   # check if a randomly selected value is less than epsilon\n",
        "  action = env.action_space.sample()    # take random action\n",
        "else:\n",
        "  action = np.argmax(Q[state, :])       # use Q table to pick best action based on current values"
      ],
      "execution_count": null,
      "outputs": []
    },
    {
      "cell_type": "markdown",
      "metadata": {
        "id": "K6Hp7_IJGzrx"
      },
      "source": [
        "## **Updating Q Values**"
      ]
    },
    {
      "cell_type": "code",
      "metadata": {
        "id": "JN-9QMYnHk8L"
      },
      "source": [
        "Q[state, action] = Q[state, action] + LEARNING_RATE * (reward + GAMMA * np.max(Q[new_state, :]) - Q[state, action])"
      ],
      "execution_count": null,
      "outputs": []
    },
    {
      "cell_type": "markdown",
      "metadata": {
        "id": "W92KaqErHltz"
      },
      "source": [
        "## **Putting it Together**\n",
        "Combine these together to create the Q-Learning algorithm"
      ]
    },
    {
      "cell_type": "code",
      "metadata": {
        "id": "zEQsWSkKHsFV"
      },
      "source": [
        "env = gym.make('FrozenLake-v0')\n",
        "STATES = env.observation_space.n\n",
        "ACTIONS = env.action_space.n\n",
        "\n",
        "Q = np.zeros((STATES, ACTIONS))\n",
        "\n",
        "EPISODES = 2000\n",
        "MAX_STEPS = 100\n",
        "\n",
        "LEARNING_RATE = 0.81\n",
        "GAMMA = 0.96\n",
        "\n",
        "RENDER = False  # whether you want to draw the environment or not; if you want to see training set to true\n",
        "\n",
        "epsilon = 0.8"
      ],
      "execution_count": 110,
      "outputs": []
    },
    {
      "cell_type": "code",
      "metadata": {
        "colab": {
          "base_uri": "https://localhost:8080/"
        },
        "id": "-D7TVAxfINHG",
        "outputId": "7a984c22-804a-4878-b8ee-a7b5ca03e2ac"
      },
      "source": [
        "rewards = []\n",
        "\n",
        "for episode in range(EPISODES):\n",
        "\n",
        "  state = env.reset()\n",
        "  for _ in range(MAX_STEPS):\n",
        "\n",
        "    if RENDER:\n",
        "      env.render()\n",
        "\n",
        "    if np.random.uniform(0, 1) < epsilon:\n",
        "      action = env.action_space.sample()\n",
        "    else:\n",
        "      action = np.argmax(Q[state, :])\n",
        "\n",
        "    # 해당 Action을 했을 때 environment가 변하고, 새로운 state, reward, done 여부를 반환 받음\n",
        "    next_state, reward, done, _ = env.step(action)\n",
        "\n",
        "    Q[state, action] = Q[state, action] + LEARNING_RATE * (reward + GAMMA * np.max(Q[new_state, :]) - Q[state, action]) \n",
        "\n",
        "    state = next_state\n",
        "\n",
        "    if done:\n",
        "      rewards.append(reward)\n",
        "      epsilon -= 0.001\n",
        "      break   # reached goal\n",
        "\n",
        "print(Q)\n",
        "print(f'Average reward: {sum(rewards)/len(rewards)}:')  # see the Q values"
      ],
      "execution_count": 111,
      "outputs": [
        {
          "output_type": "stream",
          "text": [
            "[[0.         0.         0.         0.        ]\n",
            " [0.         0.         0.         0.        ]\n",
            " [0.         0.         0.         0.        ]\n",
            " [0.         0.         0.         0.        ]\n",
            " [0.         0.         0.         0.        ]\n",
            " [0.         0.         0.         0.        ]\n",
            " [0.         0.         0.         0.        ]\n",
            " [0.         0.         0.         0.        ]\n",
            " [0.         0.         0.         0.        ]\n",
            " [0.         0.         0.         0.        ]\n",
            " [0.         0.         0.         0.        ]\n",
            " [0.         0.         0.         0.        ]\n",
            " [0.         0.         0.         0.        ]\n",
            " [0.         0.         0.         0.        ]\n",
            " [0.         0.00125616 0.0055939  0.        ]\n",
            " [0.         0.         0.         0.        ]]\n",
            "Average reward: 0.002:\n"
          ],
          "name": "stdout"
        }
      ]
    },
    {
      "cell_type": "code",
      "metadata": {
        "colab": {
          "base_uri": "https://localhost:8080/",
          "height": 279
        },
        "id": "koqMhrolIRdl",
        "outputId": "177f6095-913f-493c-d4e8-a22ccbc7c623"
      },
      "source": [
        "# plot the training progress and see how the agent improved\n",
        "import matplotlib.pyplot as plt\n",
        "\n",
        "def get_average(values):\n",
        "  return sum(values) / len(values)\n",
        "\n",
        "avg_rewards = []\n",
        "for i in range(0, len(rewards), 100):\n",
        "  avg_rewards.append(get_average(rewards[i : i+100]))\n",
        "\n",
        "plt.plot(avg_rewards)\n",
        "plt.ylabel('Average reward')\n",
        "plt.xlabel('Episodes (100\\'s)')\n",
        "plt.show()"
      ],
      "execution_count": 112,
      "outputs": [
        {
          "output_type": "display_data",
          "data": {
            "image/png": "[encoded data removed]",
            "text/plain": [
              "<Figure size 432x288 with 1 Axes>"
            ]
          },
          "metadata": {
            "tags": [],
            "needs_background": "light"
          }
        }
      ]
    }
  ]
}