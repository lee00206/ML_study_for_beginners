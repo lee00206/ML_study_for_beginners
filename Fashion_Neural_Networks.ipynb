{
  "nbformat": 4,
  "nbformat_minor": 0,
  "metadata": {
    "colab": {
      "name": "Fashion_Neural_Networks.ipynb",
      "provenance": [],
      "collapsed_sections": [],
      "authorship_tag": "ABX9TyPhaKE4+wBamrPnnw+22nrG",
      "include_colab_link": true
    },
    "kernelspec": {
      "name": "python3",
      "display_name": "Python 3"
    }
  },
  "cells": [
    {
      "cell_type": "markdown",
      "metadata": {
        "id": "view-in-github",
        "colab_type": "text"
      },
      "source": [
        "<a href=\"https://colab.research.google.com/github/lee00206/Tensorflow_for_beginners/blob/main/Fashion_Neural_Networks.ipynb\" target=\"_parent\"><img src=\"https://colab.research.google.com/assets/colab-badge.svg\" alt=\"Open In Colab\"/></a>"
      ]
    },
    {
      "cell_type": "markdown",
      "metadata": {
        "id": "SPWyw8ikbyxH"
      },
      "source": [
        "## **Imports**"
      ]
    },
    {
      "cell_type": "code",
      "metadata": {
        "id": "037eR7Fsb2-d"
      },
      "source": [
        "import tensorflow as tf\n",
        "from tensorflow import keras\n",
        "\n",
        "# Helper libraries\n",
        "import numpy as np\n",
        "import matplotlib.pyplot as plt"
      ],
      "execution_count": 53,
      "outputs": []
    },
    {
      "cell_type": "markdown",
      "metadata": {
        "id": "ms2hjWqsb_5Y"
      },
      "source": [
        "## **Dataset**\n",
        "In this notebook, the MNIST Fashion Dataset will be used.<br>\n",
        "This dataset includes 60,000 images for training and 10,000 images for validation/testing."
      ]
    },
    {
      "cell_type": "code",
      "metadata": {
        "id": "LgIkfZY7cdaZ"
      },
      "source": [
        "# load dataset\n",
        "fashion_mnist = keras.datasets.fashion_mnist\n",
        "\n",
        "# split into testing and training\n",
        "(train_images, train_labels), (test_images, test_labels) = fashion_mnist.load_data()"
      ],
      "execution_count": 54,
      "outputs": []
    },
    {
      "cell_type": "code",
      "metadata": {
        "colab": {
          "base_uri": "https://localhost:8080/"
        },
        "id": "GWbo_cegdN3S",
        "outputId": "54e0945d-4857-4abe-c9e7-939145fb92f4"
      },
      "source": [
        "train_images.shape  # 60,000 images that are made up of 28x28 pixels"
      ],
      "execution_count": 55,
      "outputs": [
        {
          "output_type": "execute_result",
          "data": {
            "text/plain": [
              "(60000, 28, 28)"
            ]
          },
          "metadata": {
            "tags": []
          },
          "execution_count": 55
        }
      ]
    },
    {
      "cell_type": "code",
      "metadata": {
        "colab": {
          "base_uri": "https://localhost:8080/"
        },
        "id": "rvw4_aeIdZTF",
        "outputId": "37c1041d-9e59-4afc-8dbc-70f6aa03c24d"
      },
      "source": [
        "# have a look at one pixel\n",
        "# pixel values are between 0 and 255, 0 being black and 255 being white.\n",
        "train_images[0, 23, 23]"
      ],
      "execution_count": 56,
      "outputs": [
        {
          "output_type": "execute_result",
          "data": {
            "text/plain": [
              "194"
            ]
          },
          "metadata": {
            "tags": []
          },
          "execution_count": 56
        }
      ]
    },
    {
      "cell_type": "code",
      "metadata": {
        "colab": {
          "base_uri": "https://localhost:8080/"
        },
        "id": "X7Emw5dkdZ4s",
        "outputId": "aec523a7-9076-4896-c057-f43e7cc7a25f"
      },
      "source": [
        "# the first 10 training labels\n",
        "train_labels[:10]"
      ],
      "execution_count": 57,
      "outputs": [
        {
          "output_type": "execute_result",
          "data": {
            "text/plain": [
              "array([9, 0, 0, 3, 0, 2, 7, 2, 5, 5], dtype=uint8)"
            ]
          },
          "metadata": {
            "tags": []
          },
          "execution_count": 57
        }
      ]
    },
    {
      "cell_type": "markdown",
      "metadata": {
        "id": "cPa5oB8vgXII"
      },
      "source": [
        "The labels are integers ranging from 0 - 9. Each integer represents a specific article of clothing. "
      ]
    },
    {
      "cell_type": "code",
      "metadata": {
        "id": "WVmcmHQMgPPx"
      },
      "source": [
        "# Create an array of label names to indicate which is which\n",
        "class_names = ['T-shirt/top', 'Trouser', 'Pullover', 'Dress', 'Coat', 'Sandal', 'Shirt', 'Sneaker', 'Bag', 'Ankle boot']"
      ],
      "execution_count": 58,
      "outputs": []
    },
    {
      "cell_type": "code",
      "metadata": {
        "colab": {
          "base_uri": "https://localhost:8080/",
          "height": 265
        },
        "id": "NUR-H3afgr5O",
        "outputId": "639570ac-dced-4755-9a3e-043fcefba831"
      },
      "source": [
        "# Example of these images\n",
        "plt.figure()\n",
        "plt.imshow(train_images[1])\n",
        "plt.colorbar()\n",
        "plt.grid(False)\n",
        "plt.show()"
      ],
      "execution_count": 59,
      "outputs": [
        {
          "output_type": "display_data",
          "data": {
            "image/png": "[encoded data removed]",
            "text/plain": [
              "<Figure size 432x288 with 2 Axes>"
            ]
          },
          "metadata": {
            "tags": [],
            "needs_background": "light"
          }
        }
      ]
    },
    {
      "cell_type": "markdown",
      "metadata": {
        "id": "ekCQ_UjXhuQn"
      },
      "source": [
        "## **Data Preprocessing**\n",
        "Applying some prior transformations to the data before feeding it the model. In this case, all of the greyscale pixel values (0-255) will be scaled between 0 and 1. It can be done by dividing each value in the training and testing sets by 255. The reason for doing this process is because smaller values will make it easier for the model to process the values (when reducing weight and bias to minimize the loss function)."
      ]
    },
    {
      "cell_type": "code",
      "metadata": {
        "id": "mb1g1yN9hofb"
      },
      "source": [
        "train_images = train_images / 255\n",
        "test_images = test_images / 255"
      ],
      "execution_count": 60,
      "outputs": []
    },
    {
      "cell_type": "markdown",
      "metadata": {
        "id": "f8Ty6WcN7Ohu"
      },
      "source": [
        "## **Building the Model**"
      ]
    },
    {
      "cell_type": "code",
      "metadata": {
        "id": "vYd8SqTl7MpK"
      },
      "source": [
        "model = keras.Sequential([\n",
        "                          keras.layers.Flatten(input_shape = (28, 28)),   # input layer (1)\n",
        "                          keras.layers.Dense(128, activation = 'relu'),   # hidden layer (2)\n",
        "                          keras.layers.Dense(10, activation = 'softmax')  # output layer (3) -> 10 classes\n",
        "])"
      ],
      "execution_count": 61,
      "outputs": []
    },
    {
      "cell_type": "markdown",
      "metadata": {
        "id": "gU1BHnNd9EH8"
      },
      "source": [
        "**Layer 1**: input layer consists of 784 neurons. The flatten means that the layer will reshape the shape (28, 28) array into a vector of 784 neurons so that each pixel will be associated with one neuron.<br>\n",
        "**Layer 2**: The *dense* denotes that this layer(hidden layer) will be fully connected and each neuron from the previous layer connects to each neuron of this layer. It has 128 neurons and uses the rectify linear unit activation function.<br>\n",
        "**Layer 3**: Output/dense layer. It has 10 neurons to determine the models output. Each neuron represents the probability of a given image being one of the 10 different classes. The activation function *softmax* is used on this layer to calculate the probability distribution for each class. This means the value of any neuron in this layer will be between 0 and 1, where 1 represents a high probability of the image being that class."
      ]
    },
    {
      "cell_type": "markdown",
      "metadata": {
        "id": "T19SeFkO-F3k"
      },
      "source": [
        "## **Compile the Model**\n",
        "Define the loss function, optimizer and metrics that will be tracked."
      ]
    },
    {
      "cell_type": "code",
      "metadata": {
        "id": "C_cuht5o-FkF"
      },
      "source": [
        "model.compile(optimizer = 'adam',\n",
        "              loss = 'sparse_categorical_crossentropy',\n",
        "              metrics = ['accuracy'])"
      ],
      "execution_count": 62,
      "outputs": []
    },
    {
      "cell_type": "markdown",
      "metadata": {
        "id": "NWgRuD1n-ZFs"
      },
      "source": [
        "## **Training the Model**"
      ]
    },
    {
      "cell_type": "code",
      "metadata": {
        "colab": {
          "base_uri": "https://localhost:8080/"
        },
        "id": "YY_FfcGL-ESn",
        "outputId": "d62be683-e3a2-494e-f1e3-999e91703fca"
      },
      "source": [
        "model.fit(train_images, train_labels, epochs = 10)  # fit the model to the training data"
      ],
      "execution_count": 63,
      "outputs": [
        {
          "output_type": "stream",
          "text": [
            "Epoch 1/10\n",
            "1875/1875 [==============================] - 4s 2ms/step - loss: 0.6307 - accuracy: 0.7815\n",
            "Epoch 2/10\n",
            "1875/1875 [==============================] - 5s 2ms/step - loss: 0.3845 - accuracy: 0.8593\n",
            "Epoch 3/10\n",
            "1875/1875 [==============================] - 4s 2ms/step - loss: 0.3347 - accuracy: 0.8783\n",
            "Epoch 4/10\n",
            "1875/1875 [==============================] - 4s 2ms/step - loss: 0.3175 - accuracy: 0.8830\n",
            "Epoch 5/10\n",
            "1875/1875 [==============================] - 4s 2ms/step - loss: 0.2958 - accuracy: 0.8907\n",
            "Epoch 6/10\n",
            "1875/1875 [==============================] - 4s 2ms/step - loss: 0.2780 - accuracy: 0.8971\n",
            "Epoch 7/10\n",
            "1875/1875 [==============================] - 4s 2ms/step - loss: 0.2629 - accuracy: 0.9029\n",
            "Epoch 8/10\n",
            "1875/1875 [==============================] - 4s 2ms/step - loss: 0.2522 - accuracy: 0.9059\n",
            "Epoch 9/10\n",
            "1875/1875 [==============================] - 4s 2ms/step - loss: 0.2462 - accuracy: 0.9067\n",
            "Epoch 10/10\n",
            "1875/1875 [==============================] - 4s 2ms/step - loss: 0.2405 - accuracy: 0.9085\n"
          ],
          "name": "stdout"
        },
        {
          "output_type": "execute_result",
          "data": {
            "text/plain": [
              "<tensorflow.python.keras.callbacks.History at 0x7ff39480c160>"
            ]
          },
          "metadata": {
            "tags": []
          },
          "execution_count": 63
        }
      ]
    },
    {
      "cell_type": "markdown",
      "metadata": {
        "id": "bmO89TLMAQ3_"
      },
      "source": [
        "## **Evaluating the Model**\n",
        "The *verbose* argument is defined from the keras documentation as: \"verbose 0 or 1. Verbosity mode 0 = silent, 1 = progress bar\""
      ]
    },
    {
      "cell_type": "code",
      "metadata": {
        "colab": {
          "base_uri": "https://localhost:8080/"
        },
        "id": "6p1jiBmcAXER",
        "outputId": "fdb64320-9625-43d6-9a8f-d428d9270056"
      },
      "source": [
        "test_loss, test_acc = model.evaluate(test_images, test_labels, verbose = 1)\n",
        "\n",
        "print('Test accuracy:', test_acc)"
      ],
      "execution_count": 64,
      "outputs": [
        {
          "output_type": "stream",
          "text": [
            "313/313 [==============================] - 0s 1ms/step - loss: 0.3392 - accuracy: 0.8801\n",
            "Test accuracy: 0.8801000118255615\n"
          ],
          "name": "stdout"
        }
      ]
    },
    {
      "cell_type": "markdown",
      "metadata": {
        "id": "djTz9pCZA6H9"
      },
      "source": [
        "The accuracy of the model of the training data is higher than that of the testing data, which means \"overfitting\" has happened. To solve this problem, try to change the hyperparameters (optimizer, loss, epochs, etc.)"
      ]
    },
    {
      "cell_type": "markdown",
      "metadata": {
        "id": "-iaTOAiKB9FQ"
      },
      "source": [
        "## **Making Predictions**"
      ]
    },
    {
      "cell_type": "code",
      "metadata": {
        "colab": {
          "base_uri": "https://localhost:8080/",
          "height": 286
        },
        "id": "TBFtsmSXB82F",
        "outputId": "bd6be84d-520b-4d1a-ad9f-4a01ea757e4c"
      },
      "source": [
        "predictions = model.predict(test_images)\n",
        "print(class_names[np.argmax(predictions[0])])   # predictions of the image of 0\n",
        "                                   # np.argmax: returns the maximum value of the list\n",
        "\n",
        "# plot the image\n",
        "plt.figure()\n",
        "plt.imshow(test_images[0])\n",
        "plt.colorbar()\n",
        "plt.grid(False)\n",
        "plt.show()"
      ],
      "execution_count": 65,
      "outputs": [
        {
          "output_type": "stream",
          "text": [
            "Ankle boot\n"
          ],
          "name": "stdout"
        },
        {
          "output_type": "display_data",
          "data": {
            "image/png": "[encoded data removed]",
            "text/plain": [
              "<Figure size 432x288 with 2 Axes>"
            ]
          },
          "metadata": {
            "tags": [],
            "needs_background": "light"
          }
        }
      ]
    },
    {
      "cell_type": "markdown",
      "metadata": {
        "id": "1a7bbCrMDMGK"
      },
      "source": [
        "## **Verifying Predictions**"
      ]
    },
    {
      "cell_type": "code",
      "metadata": {
        "colab": {
          "base_uri": "https://localhost:8080/",
          "height": 348
        },
        "id": "pR7gKliTCE5R",
        "outputId": "e0925db9-8960-48da-808a-706ed59d895a"
      },
      "source": [
        "COLOR = 'white'\n",
        "plt.rcParams['text.color'] = COLOR\n",
        "plt.rcParams['axes.labelcolor'] = COLOR\n",
        "\n",
        "def predict(model, image, correct_label):\n",
        "  class_names = ['T-shirt/top', 'Trouser', 'Pullover', 'Dress', 'Coat', 'Sandal', 'Shirt', 'Sneaker', 'Bag', 'Ankle Boot']\n",
        "  prediction = model.predict(np.array([image]))\n",
        "  predicted_class = class_names[np.argmax(prediction)]\n",
        "\n",
        "  show_image(image, class_names[correct_label], predicted_class)\n",
        "\n",
        "def show_image(img, label, guess):\n",
        "  plt.figure()\n",
        "  plt.imshow(img, cmap=plt.cm.binary)\n",
        "  plt.colorbar()\n",
        "  plt.grid(False)\n",
        "  plt.show()\n",
        "  print(\"Expected: \", label)\n",
        "  print(\"Guess: \", guess)\n",
        "\n",
        "def get_number():\n",
        "  while True:\n",
        "    num = input('Pick a number: ')\n",
        "    if num.isdigit():\n",
        "      num = int(num)\n",
        "      if 0 <= num <= 1000:\n",
        "        return int(num)\n",
        "    else:\n",
        "      print(\"Try again...\")\n",
        "\n",
        "num = get_number()\n",
        "image = test_images[num]\n",
        "label = test_labels[num]\n",
        "predict(model, image, label)"
      ],
      "execution_count": 81,
      "outputs": [
        {
          "output_type": "stream",
          "text": [
            "Pick a number: 45\n"
          ],
          "name": "stdout"
        },
        {
          "output_type": "display_data",
          "data": {
            "image/png": "[encoded data removed]",
            "text/plain": [
              "<Figure size 432x288 with 2 Axes>"
            ]
          },
          "metadata": {
            "tags": [],
            "needs_background": "light"
          }
        },
        {
          "output_type": "stream",
          "text": [
            "Expected:  Sneaker\n",
            "Guess:  Sneaker\n"
          ],
          "name": "stdout"
        }
      ]
    }
  ]
}