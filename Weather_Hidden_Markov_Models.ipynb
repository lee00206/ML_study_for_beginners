{
  "nbformat": 4,
  "nbformat_minor": 0,
  "metadata": {
    "colab": {
      "name": "Weather_Hidden_Markov_Models.ipynb",
      "provenance": [],
      "collapsed_sections": [],
      "authorship_tag": "ABX9TyMkgfB/CxXEs4pV7fhyaAR1",
      "include_colab_link": true
    },
    "kernelspec": {
      "name": "python3",
      "display_name": "Python 3"
    }
  },
  "cells": [
    {
      "cell_type": "markdown",
      "metadata": {
        "id": "view-in-github",
        "colab_type": "text"
      },
      "source": [
        "<a href=\"https://colab.research.google.com/github/lee00206/Tensorflow_for_beginners/blob/main/Weather_Hidden_Markov_Models.ipynb\" target=\"_parent\"><img src=\"https://colab.research.google.com/assets/colab-badge.svg\" alt=\"Open In Colab\"/></a>"
      ]
    },
    {
      "cell_type": "markdown",
      "metadata": {
        "id": "WN0OLxKdE7Zs"
      },
      "source": [
        "# **Hidden Markov Models**\n",
        "\"The Hidden Markov Model is a finite set of states, each of which is associated with a (generally multidimensional) probability distribution. Transitions among the states are governed by a set of probabilities called transition probabilities.\"<br>\n",
        "A hidden markov model works with probabilities to predict future events or states. "
      ]
    },
    {
      "cell_type": "markdown",
      "metadata": {
        "id": "zg7ec0jo_cEt"
      },
      "source": [
        "## **Introduction**\n",
        "The purpose of this notebook is to predict the weather on a given day. For our purpose we will assume we already have *states*, *observation distribution* and *transition distribution* information."
      ]
    },
    {
      "cell_type": "markdown",
      "metadata": {
        "id": "J0ghYy0Q-dvr"
      },
      "source": [
        "## **Imports and Setup**"
      ]
    },
    {
      "cell_type": "code",
      "metadata": {
        "id": "hLb9RFubYVoW"
      },
      "source": [
        "import tensorflow_probability as tfp\n",
        "import tensorflow as tf"
      ],
      "execution_count": 1,
      "outputs": []
    },
    {
      "cell_type": "markdown",
      "metadata": {
        "id": "gYOsblzEAOPM"
      },
      "source": [
        "## **Weather Model**\n",
        "This notebook will model a simple weather system and try to predict the temperature on each day given the following information.<br>\n",
        "\n",
        "\n",
        "1.   Cold days are encoded by a 0 and hot days are encoded by a 1.\n",
        "2.   The first day in our sequence has an 80% chance of being cold.\n",
        "3. A cold day has a 30% chance of being followed by a hot day.\n",
        "4. A hot day has a 20% chance of being followed by a cold day.\n",
        "5. On each day the temperature is normally distributed with mean and standard deviation 0 and 5 on a cold day and mean and standard deviation 15 and 10 on a hot day.<br>\n",
        "\n",
        "In this example, on a hot day the average temperature is 15 and ranges from 5 to 25.<br>"
      ]
    },
    {
      "cell_type": "code",
      "metadata": {
        "id": "D46ObaiJA_H8"
      },
      "source": [
        "tfd = tfp.distributions   # making a shortcut for later on\n",
        "initial_distribution = tfd.Categorical(probs = [0.8, 0.2])  # Refer to point 2 above\n",
        "transition_distribution = tfd.Categorical(probs = [[0.7, 0.3],\n",
        "                                                   [0.2, 0.8]])   # refer to points 3 and 4 above\n",
        "observation_distribution = tfd.Normal(loc = [0., 15.], scale = [5., 10.])   # refer to point 5 above\n",
        "\n",
        "# the loc argument represents the mean and the scale is the standard deviation"
      ],
      "execution_count": 2,
      "outputs": []
    },
    {
      "cell_type": "code",
      "metadata": {
        "id": "exTcNvBxCm5K"
      },
      "source": [
        "# Create the hidden markov model\n",
        "model = tfd.HiddenMarkovModel(\n",
        "    initial_distribution = initial_distribution,\n",
        "    transition_distribution = transition_distribution,\n",
        "    observation_distribution = observation_distribution,\n",
        "    num_steps = 7)  # steps = how many days we want to predict for"
      ],
      "execution_count": 4,
      "outputs": []
    },
    {
      "cell_type": "code",
      "metadata": {
        "colab": {
          "base_uri": "https://localhost:8080/"
        },
        "id": "1xeBWQf3C54j",
        "outputId": "3a9b5d97-2bc9-4db6-f00d-0f11854ef296"
      },
      "source": [
        "mean = model.mean()\n",
        "print(mean.numpy())   # returns expected temperature of each day"
      ],
      "execution_count": 6,
      "outputs": [
        {
          "output_type": "stream",
          "text": [
            "[2.9999998 5.9999995 7.4999995 8.25      8.625001  8.812501  8.90625  ]\n"
          ],
          "name": "stdout"
        }
      ]
    }
  ]
}