{
  "nbformat": 4,
  "nbformat_minor": 0,
  "metadata": {
    "colab": {
      "name": "TensorFlow-Introduction.ipynb",
      "provenance": [],
      "collapsed_sections": [],
      "authorship_tag": "ABX9TyMnsGCXLuLJvG/3GSJyAAFw",
      "include_colab_link": true
    },
    "kernelspec": {
      "name": "python3",
      "display_name": "Python 3"
    }
  },
  "cells": [
    {
      "cell_type": "markdown",
      "metadata": {
        "id": "view-in-github",
        "colab_type": "text"
      },
      "source": [
        "<a href=\"https://colab.research.google.com/github/lee00206/ML_study_for_beginners/blob/main/TensorFlow_Introduction.ipynb\" target=\"_parent\"><img src=\"https://colab.research.google.com/assets/colab-badge.svg\" alt=\"Open In Colab\"/></a>"
      ]
    },
    {
      "cell_type": "code",
      "metadata": {
        "colab": {
          "base_uri": "https://localhost:8080/"
        },
        "id": "wpSkyXSb2DR_",
        "outputId": "ef6df1ca-8a9f-49e7-c23b-0c4eaf7e6081"
      },
      "source": [
        "import tensorflow as tf\n",
        "print(tf.version)"
      ],
      "execution_count": 4,
      "outputs": [
        {
          "output_type": "stream",
          "text": [
            "<module 'tensorflow._api.v2.version' from '/usr/local/lib/python3.6/dist-packages/tensorflow/_api/v2/version/__init__.py'>\n"
          ],
          "name": "stdout"
        }
      ]
    },
    {
      "cell_type": "markdown",
      "metadata": {
        "id": "wRnTVaSa67ge"
      },
      "source": [
        "### **Creating Tensors**"
      ]
    },
    {
      "cell_type": "code",
      "metadata": {
        "id": "yr_7SSQM65wO"
      },
      "source": [
        "string = tf.Variable(\"this is a string\", tf.string)\n",
        "number = tf.Variable(324, tf.int16)\n",
        "floating = tf.Variable(3.567, tf.float64)"
      ],
      "execution_count": 5,
      "outputs": []
    },
    {
      "cell_type": "markdown",
      "metadata": {
        "id": "w7FDDvoT7UZs"
      },
      "source": [
        "### **Rank/Degree of Tensors**\n",
        "Another word for rank is degree, these terms simply mean the number of dimensions involved in the tensor. What we created above is a *tensor of rank 0*, also known as a scalar."
      ]
    },
    {
      "cell_type": "code",
      "metadata": {
        "id": "BE58-Vud7ZJ8"
      },
      "source": [
        "rank1_tensor = tf.Variable([\"Test\", \"Ok\"], tf.string)\n",
        "rank2_tensor = tf.Variable([[\"test\", \"ok\"], [\"test\", \"yes\"]], tf.string)"
      ],
      "execution_count": 8,
      "outputs": []
    },
    {
      "cell_type": "markdown",
      "metadata": {
        "id": "DPWcgYJe8L1Q"
      },
      "source": [
        "\n",
        "To determine the rank of a tensor we can call the following method.\n"
      ]
    },
    {
      "cell_type": "code",
      "metadata": {
        "colab": {
          "base_uri": "https://localhost:8080/"
        },
        "id": "EiJHIisb8Lc3",
        "outputId": "a6413f52-b9ba-4f3d-d312-17d7abc651cf"
      },
      "source": [
        "tf.rank(rank2_tensor)"
      ],
      "execution_count": 9,
      "outputs": [
        {
          "output_type": "execute_result",
          "data": {
            "text/plain": [
              "<tf.Tensor: shape=(), dtype=int32, numpy=2>"
            ]
          },
          "metadata": {
            "tags": []
          },
          "execution_count": 9
        }
      ]
    },
    {
      "cell_type": "markdown",
      "metadata": {
        "id": "_ON_I9BI8oiG"
      },
      "source": [
        "### **Shape of Tensors**\n",
        "The shape of a tensor is simply the amount of elements that exist in each dimension.<br>\n",
        "To get the shape of a tensor we use the shape attribute."
      ]
    },
    {
      "cell_type": "code",
      "metadata": {
        "colab": {
          "base_uri": "https://localhost:8080/"
        },
        "id": "lR_YJ1K886Zq",
        "outputId": "8d340b55-35b6-490c-d8fe-6f261c8d9ee3"
      },
      "source": [
        "rank2_tensor.shape  # 2 list 2 elements return TensorShape([2, 2])"
      ],
      "execution_count": 11,
      "outputs": [
        {
          "output_type": "execute_result",
          "data": {
            "text/plain": [
              "TensorShape([2, 2])"
            ]
          },
          "metadata": {
            "tags": []
          },
          "execution_count": 11
        }
      ]
    },
    {
      "cell_type": "markdown",
      "metadata": {
        "id": "934Yo-mw9hkh"
      },
      "source": [
        "### **Changing Shape**\n",
        "The number of elements of a tensor is the product of the sizes of all its shapes. There are often many shapes that have the same number of elements, making it convient to be able to change the shape of a tensor.<br>\n",
        "The number of elements in the reshaped tensor must match the number in the original."
      ]
    },
    {
      "cell_type": "code",
      "metadata": {
        "colab": {
          "base_uri": "https://localhost:8080/"
        },
        "id": "Ji4el9-Y_oZE",
        "outputId": "b0443a7b-454a-4373-a359-c493c78504f0"
      },
      "source": [
        "tensor1 = tf.ones([1, 2, 3])  # tf.ones() creates a shape [1, 2, 3] tensor full of ones\n",
        "                              # 1 interior list, 2 lists inside the list, each list has 3 elements\n",
        "print(tensor1)"
      ],
      "execution_count": 14,
      "outputs": [
        {
          "output_type": "stream",
          "text": [
            "tf.Tensor(\n",
            "[[[1. 1. 1.]\n",
            "  [1. 1. 1.]]], shape=(1, 2, 3), dtype=float32)\n"
          ],
          "name": "stdout"
        }
      ]
    },
    {
      "cell_type": "code",
      "metadata": {
        "colab": {
          "base_uri": "https://localhost:8080/"
        },
        "id": "3VjfhVG5_sk-",
        "outputId": "85835e16-4852-4c30-81ff-4c8935783be1"
      },
      "source": [
        "tensor2 = tf.reshape(tensor1, [2, 3, 1])  # reshape existing data to shape [2, 3, 1]\n",
        "print(tensor2)"
      ],
      "execution_count": 15,
      "outputs": [
        {
          "output_type": "stream",
          "text": [
            "tf.Tensor(\n",
            "[[[1.]\n",
            "  [1.]\n",
            "  [1.]]\n",
            "\n",
            " [[1.]\n",
            "  [1.]\n",
            "  [1.]]], shape=(2, 3, 1), dtype=float32)\n"
          ],
          "name": "stdout"
        }
      ]
    },
    {
      "cell_type": "code",
      "metadata": {
        "colab": {
          "base_uri": "https://localhost:8080/"
        },
        "id": "IX5Cyvdc_w0T",
        "outputId": "f132bc5f-c909-465e-a520-579ab11e2f1d"
      },
      "source": [
        "tensor3 = tf.reshape(tensor2, [3, -1])  # -1 tells the tensor to calculate the size of the dimension in that place\n",
        "                                        # this will reshape the tensor to [3, 2]\n",
        "print(tensor3)"
      ],
      "execution_count": 17,
      "outputs": [
        {
          "output_type": "stream",
          "text": [
            "tf.Tensor(\n",
            "[[1. 1.]\n",
            " [1. 1.]\n",
            " [1. 1.]], shape=(3, 2), dtype=float32)\n"
          ],
          "name": "stdout"
        }
      ]
    }
  ]
}