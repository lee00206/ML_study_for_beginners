{
  "nbformat": 4,
  "nbformat_minor": 0,
  "metadata": {
    "colab": {
      "name": "Iris_Classification.ipynb",
      "provenance": [],
      "collapsed_sections": [],
      "authorship_tag": "ABX9TyN6VckpU1mfYNJeIdwf+6DN",
      "include_colab_link": true
    },
    "kernelspec": {
      "name": "python3",
      "display_name": "Python 3"
    }
  },
  "cells": [
    {
      "cell_type": "markdown",
      "metadata": {
        "id": "view-in-github",
        "colab_type": "text"
      },
      "source": [
        "<a href=\"https://colab.research.google.com/github/lee00206/Tensorflow_for_beginners/blob/main/Iris_Classification.ipynb\" target=\"_parent\"><img src=\"https://colab.research.google.com/assets/colab-badge.svg\" alt=\"Open In Colab\"/></a>"
      ]
    },
    {
      "cell_type": "markdown",
      "metadata": {
        "id": "H_f8aMRn9F3m"
      },
      "source": [
        "## **Imports and Setup**"
      ]
    },
    {
      "cell_type": "code",
      "metadata": {
        "id": "gzXq98am9Nws"
      },
      "source": [
        "from __future__ import absolute_import, division, print_function, unicode_literals\n",
        "\n",
        "import tensorflow as tf\n",
        "import pandas as pd"
      ],
      "execution_count": 1,
      "outputs": []
    },
    {
      "cell_type": "markdown",
      "metadata": {
        "id": "TvwvsRLb9eGq"
      },
      "source": [
        "## **Dataset**\n",
        "This specific dataset seperates flowers into 3 different classes of species.<br>\n",
        "* Setosa\n",
        "* Versicolor\n",
        "* Virginica<br>\n",
        "\n",
        "\n",
        "The information about each flower is the following:\n",
        "* sepal length\n",
        "* sepal width\n",
        "* petal length\n",
        "* petal width"
      ]
    },
    {
      "cell_type": "code",
      "metadata": {
        "id": "lzM6m7YO92To"
      },
      "source": [
        "CSV_COLUMN_NAMES = ['SepalLength', 'SepalWidth', 'PetalLength', 'PetalWidth', 'Species']\n",
        "SPEICES = ['Setosa', 'Versicolor', 'Virginica']"
      ],
      "execution_count": 2,
      "outputs": []
    },
    {
      "cell_type": "code",
      "metadata": {
        "id": "FaGfIHnM-o5Z"
      },
      "source": [
        "train_path = tf.keras.utils.get_file(\"iris_training.csv\", \"https://storage.googleapis.com/download.tensorflow.org/data/iris_training.csv\")\n",
        "test_path = tf.keras.utils.get_file(\"iris_test.csv\", \"https://storage.googleapis.com/download.tensorflow.org/data/iris_test.csv\")\n",
        "\n",
        "train = pd.read_csv(train_path, names = CSV_COLUMN_NAMES, header = 0)\n",
        "test = pd.read_csv(test_path, names = CSV_COLUMN_NAMES, header = 0)"
      ],
      "execution_count": 4,
      "outputs": []
    },
    {
      "cell_type": "code",
      "metadata": {
        "colab": {
          "base_uri": "https://localhost:8080/",
          "height": 204
        },
        "id": "qBj1YPwQ_fec",
        "outputId": "4e65cf99-e629-4c7c-c33a-b68dfe7dc0f8"
      },
      "source": [
        "train.head()"
      ],
      "execution_count": 5,
      "outputs": [
        {
          "output_type": "execute_result",
          "data": {
            "text/html": [
              "<div>\n",
              "<style scoped>\n",
              "    .dataframe tbody tr th:only-of-type {\n",
              "        vertical-align: middle;\n",
              "    }\n",
              "\n",
              "    .dataframe tbody tr th {\n",
              "        vertical-align: top;\n",
              "    }\n",
              "\n",
              "    .dataframe thead th {\n",
              "        text-align: right;\n",
              "    }\n",
              "</style>\n",
              "<table border=\"1\" class=\"dataframe\">\n",
              "  <thead>\n",
              "    <tr style=\"text-align: right;\">\n",
              "      <th></th>\n",
              "      <th>SepalLength</th>\n",
              "      <th>SepalWidth</th>\n",
              "      <th>PetalLength</th>\n",
              "      <th>PetalWidth</th>\n",
              "      <th>Species</th>\n",
              "    </tr>\n",
              "  </thead>\n",
              "  <tbody>\n",
              "    <tr>\n",
              "      <th>0</th>\n",
              "      <td>6.4</td>\n",
              "      <td>2.8</td>\n",
              "      <td>5.6</td>\n",
              "      <td>2.2</td>\n",
              "      <td>2</td>\n",
              "    </tr>\n",
              "    <tr>\n",
              "      <th>1</th>\n",
              "      <td>5.0</td>\n",
              "      <td>2.3</td>\n",
              "      <td>3.3</td>\n",
              "      <td>1.0</td>\n",
              "      <td>1</td>\n",
              "    </tr>\n",
              "    <tr>\n",
              "      <th>2</th>\n",
              "      <td>4.9</td>\n",
              "      <td>2.5</td>\n",
              "      <td>4.5</td>\n",
              "      <td>1.7</td>\n",
              "      <td>2</td>\n",
              "    </tr>\n",
              "    <tr>\n",
              "      <th>3</th>\n",
              "      <td>4.9</td>\n",
              "      <td>3.1</td>\n",
              "      <td>1.5</td>\n",
              "      <td>0.1</td>\n",
              "      <td>0</td>\n",
              "    </tr>\n",
              "    <tr>\n",
              "      <th>4</th>\n",
              "      <td>5.7</td>\n",
              "      <td>3.8</td>\n",
              "      <td>1.7</td>\n",
              "      <td>0.3</td>\n",
              "      <td>0</td>\n",
              "    </tr>\n",
              "  </tbody>\n",
              "</table>\n",
              "</div>"
            ],
            "text/plain": [
              "   SepalLength  SepalWidth  PetalLength  PetalWidth  Species\n",
              "0          6.4         2.8          5.6         2.2        2\n",
              "1          5.0         2.3          3.3         1.0        1\n",
              "2          4.9         2.5          4.5         1.7        2\n",
              "3          4.9         3.1          1.5         0.1        0\n",
              "4          5.7         3.8          1.7         0.3        0"
            ]
          },
          "metadata": {
            "tags": []
          },
          "execution_count": 5
        }
      ]
    },
    {
      "cell_type": "code",
      "metadata": {
        "colab": {
          "base_uri": "https://localhost:8080/",
          "height": 204
        },
        "id": "HS2uGRvhAuv7",
        "outputId": "86437b91-28ac-4a19-89b0-4dacacdd0262"
      },
      "source": [
        "train_y = train.pop('Species')\n",
        "test_y = test.pop('Species')\n",
        "train.head() # the species column is now gone"
      ],
      "execution_count": 6,
      "outputs": [
        {
          "output_type": "execute_result",
          "data": {
            "text/html": [
              "<div>\n",
              "<style scoped>\n",
              "    .dataframe tbody tr th:only-of-type {\n",
              "        vertical-align: middle;\n",
              "    }\n",
              "\n",
              "    .dataframe tbody tr th {\n",
              "        vertical-align: top;\n",
              "    }\n",
              "\n",
              "    .dataframe thead th {\n",
              "        text-align: right;\n",
              "    }\n",
              "</style>\n",
              "<table border=\"1\" class=\"dataframe\">\n",
              "  <thead>\n",
              "    <tr style=\"text-align: right;\">\n",
              "      <th></th>\n",
              "      <th>SepalLength</th>\n",
              "      <th>SepalWidth</th>\n",
              "      <th>PetalLength</th>\n",
              "      <th>PetalWidth</th>\n",
              "    </tr>\n",
              "  </thead>\n",
              "  <tbody>\n",
              "    <tr>\n",
              "      <th>0</th>\n",
              "      <td>6.4</td>\n",
              "      <td>2.8</td>\n",
              "      <td>5.6</td>\n",
              "      <td>2.2</td>\n",
              "    </tr>\n",
              "    <tr>\n",
              "      <th>1</th>\n",
              "      <td>5.0</td>\n",
              "      <td>2.3</td>\n",
              "      <td>3.3</td>\n",
              "      <td>1.0</td>\n",
              "    </tr>\n",
              "    <tr>\n",
              "      <th>2</th>\n",
              "      <td>4.9</td>\n",
              "      <td>2.5</td>\n",
              "      <td>4.5</td>\n",
              "      <td>1.7</td>\n",
              "    </tr>\n",
              "    <tr>\n",
              "      <th>3</th>\n",
              "      <td>4.9</td>\n",
              "      <td>3.1</td>\n",
              "      <td>1.5</td>\n",
              "      <td>0.1</td>\n",
              "    </tr>\n",
              "    <tr>\n",
              "      <th>4</th>\n",
              "      <td>5.7</td>\n",
              "      <td>3.8</td>\n",
              "      <td>1.7</td>\n",
              "      <td>0.3</td>\n",
              "    </tr>\n",
              "  </tbody>\n",
              "</table>\n",
              "</div>"
            ],
            "text/plain": [
              "   SepalLength  SepalWidth  PetalLength  PetalWidth\n",
              "0          6.4         2.8          5.6         2.2\n",
              "1          5.0         2.3          3.3         1.0\n",
              "2          4.9         2.5          4.5         1.7\n",
              "3          4.9         3.1          1.5         0.1\n",
              "4          5.7         3.8          1.7         0.3"
            ]
          },
          "metadata": {
            "tags": []
          },
          "execution_count": 6
        }
      ]
    },
    {
      "cell_type": "code",
      "metadata": {
        "colab": {
          "base_uri": "https://localhost:8080/"
        },
        "id": "hH2ymkfIBH7A",
        "outputId": "7fca6465-4a91-4294-e8ff-fff653194ec7"
      },
      "source": [
        "train.shape"
      ],
      "execution_count": 7,
      "outputs": [
        {
          "output_type": "execute_result",
          "data": {
            "text/plain": [
              "(120, 4)"
            ]
          },
          "metadata": {
            "tags": []
          },
          "execution_count": 7
        }
      ]
    },
    {
      "cell_type": "markdown",
      "metadata": {
        "id": "hcmq0hs0BYRJ"
      },
      "source": [
        "## **Input Function**"
      ]
    },
    {
      "cell_type": "code",
      "metadata": {
        "id": "G79A5_94BXpy"
      },
      "source": [
        "def input_fn(features, labels, training=True, batch_size=256):\n",
        "  # Convert the inputs to a Dataset.\n",
        "  dataset = tf.data.Dataset.from_tensor_slices((dict(features), labels))\n",
        "\n",
        "  # Shuffle and repeat if you are in training mode.\n",
        "  if training:\n",
        "    dataset = dataset.shuffle(1000).repeat()\n",
        "\n",
        "  return dataset.batch(batch_size)"
      ],
      "execution_count": 8,
      "outputs": []
    },
    {
      "cell_type": "markdown",
      "metadata": {
        "id": "6WU7naaxQUUj"
      },
      "source": [
        "## **Feature Columns**"
      ]
    },
    {
      "cell_type": "code",
      "metadata": {
        "colab": {
          "base_uri": "https://localhost:8080/"
        },
        "id": "Y67h83H_O9cZ",
        "outputId": "511bcf28-f2f3-435b-cd9f-d6a508a7b0b4"
      },
      "source": [
        "# Feature columns describe how to use the input\n",
        "my_feature_columns = []\n",
        "for key in train.keys():\n",
        "  my_feature_columns.append(tf.feature_column.numeric_column(key = key))\n",
        "print(my_feature_columns)"
      ],
      "execution_count": 9,
      "outputs": [
        {
          "output_type": "stream",
          "text": [
            "[NumericColumn(key='SepalLength', shape=(1,), default_value=None, dtype=tf.float32, normalizer_fn=None), NumericColumn(key='SepalWidth', shape=(1,), default_value=None, dtype=tf.float32, normalizer_fn=None), NumericColumn(key='PetalLength', shape=(1,), default_value=None, dtype=tf.float32, normalizer_fn=None), NumericColumn(key='PetalWidth', shape=(1,), default_value=None, dtype=tf.float32, normalizer_fn=None)]\n"
          ],
          "name": "stdout"
        }
      ]
    },
    {
      "cell_type": "markdown",
      "metadata": {
        "id": "iJ3ubbj7Q0k7"
      },
      "source": [
        "## **Building the Model**"
      ]
    },
    {
      "cell_type": "code",
      "metadata": {
        "colab": {
          "base_uri": "https://localhost:8080/"
        },
        "id": "Ro86PMHoQ2lm",
        "outputId": "99ea020a-80e0-4fb3-fcd1-8d3520abef07"
      },
      "source": [
        "# Build a DNN(Deep Neural Network) with 2 hidden layers with 30 and 10 hidden notes each\n",
        "classifier = tf.estimator.DNNClassifier(\n",
        "    feature_columns = my_feature_columns,\n",
        "    # Two hidden layers of 30 and 10 nodes respectively\n",
        "    hidden_units = [30, 10],\n",
        "    # The model must choose between 3 classes\n",
        "    n_classes = 3\n",
        ")"
      ],
      "execution_count": 10,
      "outputs": [
        {
          "output_type": "stream",
          "text": [
            "INFO:tensorflow:Using default config.\n",
            "WARNING:tensorflow:Using temporary folder as model directory: /tmp/tmpzh3ey7p1\n",
            "INFO:tensorflow:Using config: {'_model_dir': '/tmp/tmpzh3ey7p1', '_tf_random_seed': None, '_save_summary_steps': 100, '_save_checkpoints_steps': None, '_save_checkpoints_secs': 600, '_session_config': allow_soft_placement: true\n",
            "graph_options {\n",
            "  rewrite_options {\n",
            "    meta_optimizer_iterations: ONE\n",
            "  }\n",
            "}\n",
            ", '_keep_checkpoint_max': 5, '_keep_checkpoint_every_n_hours': 10000, '_log_step_count_steps': 100, '_train_distribute': None, '_device_fn': None, '_protocol': None, '_eval_distribute': None, '_experimental_distribute': None, '_experimental_max_worker_delay_secs': None, '_session_creation_timeout_secs': 7200, '_checkpoint_save_graph_def': True, '_service': None, '_cluster_spec': ClusterSpec({}), '_task_type': 'worker', '_task_id': 0, '_global_id_in_cluster': 0, '_master': '', '_evaluation_master': '', '_is_chief': True, '_num_ps_replicas': 0, '_num_worker_replicas': 1}\n"
          ],
          "name": "stdout"
        }
      ]
    },
    {
      "cell_type": "markdown",
      "metadata": {
        "id": "qOMnHyafSHpO"
      },
      "source": [
        "## **Training**"
      ]
    },
    {
      "cell_type": "code",
      "metadata": {
        "colab": {
          "base_uri": "https://localhost:8080/"
        },
        "id": "6n7MoQqjSJQV",
        "outputId": "0af33d25-82e1-461d-a75a-8065594f6e2d"
      },
      "source": [
        "classifier.train(\n",
        "    input_fn = lambda: input_fn(train, train_y, training = True),\n",
        "    steps = 5000\n",
        ")\n",
        "# lambda allows you define a function in one line"
      ],
      "execution_count": 11,
      "outputs": [
        {
          "output_type": "stream",
          "text": [
            "WARNING:tensorflow:From /usr/local/lib/python3.6/dist-packages/tensorflow/python/training/training_util.py:236: Variable.initialized_value (from tensorflow.python.ops.variables) is deprecated and will be removed in a future version.\n",
            "Instructions for updating:\n",
            "Use Variable.read_value. Variables in 2.X are initialized automatically both in eager and graph (inside tf.defun) contexts.\n",
            "INFO:tensorflow:Calling model_fn.\n",
            "WARNING:tensorflow:From /usr/local/lib/python3.6/dist-packages/tensorflow/python/keras/optimizer_v2/adagrad.py:83: calling Constant.__init__ (from tensorflow.python.ops.init_ops) with dtype is deprecated and will be removed in a future version.\n",
            "Instructions for updating:\n",
            "Call initializer instance with the dtype argument instead of passing it to the constructor\n",
            "INFO:tensorflow:Done calling model_fn.\n",
            "INFO:tensorflow:Create CheckpointSaverHook.\n",
            "INFO:tensorflow:Graph was finalized.\n",
            "INFO:tensorflow:Running local_init_op.\n",
            "INFO:tensorflow:Done running local_init_op.\n",
            "INFO:tensorflow:Calling checkpoint listeners before saving checkpoint 0...\n",
            "INFO:tensorflow:Saving checkpoints for 0 into /tmp/tmpzh3ey7p1/model.ckpt.\n",
            "INFO:tensorflow:Calling checkpoint listeners after saving checkpoint 0...\n",
            "INFO:tensorflow:loss = 1.5319556, step = 0\n",
            "INFO:tensorflow:global_step/sec: 363.721\n",
            "INFO:tensorflow:loss = 1.161668, step = 100 (0.276 sec)\n",
            "INFO:tensorflow:global_step/sec: 424\n",
            "INFO:tensorflow:loss = 1.082407, step = 200 (0.236 sec)\n",
            "INFO:tensorflow:global_step/sec: 435.987\n",
            "INFO:tensorflow:loss = 1.0286957, step = 300 (0.232 sec)\n",
            "INFO:tensorflow:global_step/sec: 452.187\n",
            "INFO:tensorflow:loss = 0.9927548, step = 400 (0.220 sec)\n",
            "INFO:tensorflow:global_step/sec: 468.729\n",
            "INFO:tensorflow:loss = 0.9633908, step = 500 (0.214 sec)\n",
            "INFO:tensorflow:global_step/sec: 472.58\n",
            "INFO:tensorflow:loss = 0.9399036, step = 600 (0.210 sec)\n",
            "INFO:tensorflow:global_step/sec: 439.685\n",
            "INFO:tensorflow:loss = 0.92687863, step = 700 (0.227 sec)\n",
            "INFO:tensorflow:global_step/sec: 431.337\n",
            "INFO:tensorflow:loss = 0.8997814, step = 800 (0.232 sec)\n",
            "INFO:tensorflow:global_step/sec: 452.957\n",
            "INFO:tensorflow:loss = 0.88890165, step = 900 (0.222 sec)\n",
            "INFO:tensorflow:global_step/sec: 446.301\n",
            "INFO:tensorflow:loss = 0.8655775, step = 1000 (0.227 sec)\n",
            "INFO:tensorflow:global_step/sec: 486.485\n",
            "INFO:tensorflow:loss = 0.8593668, step = 1100 (0.202 sec)\n",
            "INFO:tensorflow:global_step/sec: 463.667\n",
            "INFO:tensorflow:loss = 0.83574736, step = 1200 (0.218 sec)\n",
            "INFO:tensorflow:global_step/sec: 441.175\n",
            "INFO:tensorflow:loss = 0.8257112, step = 1300 (0.224 sec)\n",
            "INFO:tensorflow:global_step/sec: 449.438\n",
            "INFO:tensorflow:loss = 0.80465245, step = 1400 (0.223 sec)\n",
            "INFO:tensorflow:global_step/sec: 480.979\n",
            "INFO:tensorflow:loss = 0.8048107, step = 1500 (0.211 sec)\n",
            "INFO:tensorflow:global_step/sec: 464.897\n",
            "INFO:tensorflow:loss = 0.7875454, step = 1600 (0.214 sec)\n",
            "INFO:tensorflow:global_step/sec: 469.766\n",
            "INFO:tensorflow:loss = 0.77515, step = 1700 (0.214 sec)\n",
            "INFO:tensorflow:global_step/sec: 448.269\n",
            "INFO:tensorflow:loss = 0.7686112, step = 1800 (0.219 sec)\n",
            "INFO:tensorflow:global_step/sec: 448.948\n",
            "INFO:tensorflow:loss = 0.75982404, step = 1900 (0.227 sec)\n",
            "INFO:tensorflow:global_step/sec: 444.17\n",
            "INFO:tensorflow:loss = 0.749213, step = 2000 (0.224 sec)\n",
            "INFO:tensorflow:global_step/sec: 435.792\n",
            "INFO:tensorflow:loss = 0.7296716, step = 2100 (0.226 sec)\n",
            "INFO:tensorflow:global_step/sec: 452.78\n",
            "INFO:tensorflow:loss = 0.7266748, step = 2200 (0.222 sec)\n",
            "INFO:tensorflow:global_step/sec: 455.474\n",
            "INFO:tensorflow:loss = 0.7183414, step = 2300 (0.219 sec)\n",
            "INFO:tensorflow:global_step/sec: 447.244\n",
            "INFO:tensorflow:loss = 0.70679766, step = 2400 (0.223 sec)\n",
            "INFO:tensorflow:global_step/sec: 431.036\n",
            "INFO:tensorflow:loss = 0.69991577, step = 2500 (0.235 sec)\n",
            "INFO:tensorflow:global_step/sec: 457.718\n",
            "INFO:tensorflow:loss = 0.6872916, step = 2600 (0.215 sec)\n",
            "INFO:tensorflow:global_step/sec: 432.551\n",
            "INFO:tensorflow:loss = 0.6848347, step = 2700 (0.232 sec)\n",
            "INFO:tensorflow:global_step/sec: 423.864\n",
            "INFO:tensorflow:loss = 0.6744662, step = 2800 (0.235 sec)\n",
            "INFO:tensorflow:global_step/sec: 423.877\n",
            "INFO:tensorflow:loss = 0.6670425, step = 2900 (0.236 sec)\n",
            "INFO:tensorflow:global_step/sec: 467.016\n",
            "INFO:tensorflow:loss = 0.65964985, step = 3000 (0.218 sec)\n",
            "INFO:tensorflow:global_step/sec: 444.674\n",
            "INFO:tensorflow:loss = 0.66615987, step = 3100 (0.223 sec)\n",
            "INFO:tensorflow:global_step/sec: 465.44\n",
            "INFO:tensorflow:loss = 0.6580241, step = 3200 (0.214 sec)\n",
            "INFO:tensorflow:global_step/sec: 456.131\n",
            "INFO:tensorflow:loss = 0.6434433, step = 3300 (0.220 sec)\n",
            "INFO:tensorflow:global_step/sec: 434.051\n",
            "INFO:tensorflow:loss = 0.6257909, step = 3400 (0.230 sec)\n",
            "INFO:tensorflow:global_step/sec: 479.404\n",
            "INFO:tensorflow:loss = 0.62133765, step = 3500 (0.210 sec)\n",
            "INFO:tensorflow:global_step/sec: 452.663\n",
            "INFO:tensorflow:loss = 0.6184662, step = 3600 (0.220 sec)\n",
            "INFO:tensorflow:global_step/sec: 457.092\n",
            "INFO:tensorflow:loss = 0.61238915, step = 3700 (0.219 sec)\n",
            "INFO:tensorflow:global_step/sec: 445.006\n",
            "INFO:tensorflow:loss = 0.59467876, step = 3800 (0.225 sec)\n",
            "INFO:tensorflow:global_step/sec: 466.189\n",
            "INFO:tensorflow:loss = 0.60200095, step = 3900 (0.211 sec)\n",
            "INFO:tensorflow:global_step/sec: 438.849\n",
            "INFO:tensorflow:loss = 0.600881, step = 4000 (0.231 sec)\n",
            "INFO:tensorflow:global_step/sec: 421.564\n",
            "INFO:tensorflow:loss = 0.5977098, step = 4100 (0.236 sec)\n",
            "INFO:tensorflow:global_step/sec: 453.858\n",
            "INFO:tensorflow:loss = 0.5783076, step = 4200 (0.222 sec)\n",
            "INFO:tensorflow:global_step/sec: 448.053\n",
            "INFO:tensorflow:loss = 0.5805918, step = 4300 (0.223 sec)\n",
            "INFO:tensorflow:global_step/sec: 480.424\n",
            "INFO:tensorflow:loss = 0.5755403, step = 4400 (0.205 sec)\n",
            "INFO:tensorflow:global_step/sec: 457.822\n",
            "INFO:tensorflow:loss = 0.5638305, step = 4500 (0.219 sec)\n",
            "INFO:tensorflow:global_step/sec: 475.349\n",
            "INFO:tensorflow:loss = 0.556747, step = 4600 (0.210 sec)\n",
            "INFO:tensorflow:global_step/sec: 488.336\n",
            "INFO:tensorflow:loss = 0.5516521, step = 4700 (0.207 sec)\n",
            "INFO:tensorflow:global_step/sec: 464.566\n",
            "INFO:tensorflow:loss = 0.55352503, step = 4800 (0.213 sec)\n",
            "INFO:tensorflow:global_step/sec: 498.608\n",
            "INFO:tensorflow:loss = 0.54247123, step = 4900 (0.202 sec)\n",
            "INFO:tensorflow:Calling checkpoint listeners before saving checkpoint 5000...\n",
            "INFO:tensorflow:Saving checkpoints for 5000 into /tmp/tmpzh3ey7p1/model.ckpt.\n",
            "INFO:tensorflow:Calling checkpoint listeners after saving checkpoint 5000...\n",
            "INFO:tensorflow:Loss for final step: 0.54167366.\n"
          ],
          "name": "stdout"
        },
        {
          "output_type": "execute_result",
          "data": {
            "text/plain": [
              "<tensorflow_estimator.python.estimator.canned.dnn.DNNClassifierV2 at 0x7fd07511cdd8>"
            ]
          },
          "metadata": {
            "tags": []
          },
          "execution_count": 11
        }
      ]
    },
    {
      "cell_type": "markdown",
      "metadata": {
        "id": "gE1u-rHGUB6a"
      },
      "source": [
        "## **Evaluate the Model**"
      ]
    },
    {
      "cell_type": "code",
      "metadata": {
        "colab": {
          "base_uri": "https://localhost:8080/"
        },
        "id": "OR66hvX2UFkv",
        "outputId": "7412256d-ce3e-4157-9ce4-65abe2b19aa6"
      },
      "source": [
        "eval_result = classifier.evaluate(input_fn = lambda: input_fn(test, test_y, training = False))\n",
        "print('\\nTest set accuracy: {accuracy: 0.3f}\\n'.format(**eval_result))"
      ],
      "execution_count": 12,
      "outputs": [
        {
          "output_type": "stream",
          "text": [
            "INFO:tensorflow:Calling model_fn.\n",
            "INFO:tensorflow:Done calling model_fn.\n",
            "INFO:tensorflow:Starting evaluation at 2021-02-08T15:45:34Z\n",
            "INFO:tensorflow:Graph was finalized.\n",
            "INFO:tensorflow:Restoring parameters from /tmp/tmpzh3ey7p1/model.ckpt-5000\n",
            "INFO:tensorflow:Running local_init_op.\n",
            "INFO:tensorflow:Done running local_init_op.\n",
            "INFO:tensorflow:Inference Time : 0.28565s\n",
            "INFO:tensorflow:Finished evaluation at 2021-02-08-15:45:34\n",
            "INFO:tensorflow:Saving dict for global step 5000: accuracy = 0.6, average_loss = 0.6335299, global_step = 5000, loss = 0.6335299\n",
            "INFO:tensorflow:Saving 'checkpoint_path' summary for global step 5000: /tmp/tmpzh3ey7p1/model.ckpt-5000\n",
            "\n",
            "Test set accuracy:  0.600\n",
            "\n"
          ],
          "name": "stdout"
        }
      ]
    },
    {
      "cell_type": "markdown",
      "metadata": {
        "id": "Bpyk83zjUxoO"
      },
      "source": [
        "## **Predictions**"
      ]
    },
    {
      "cell_type": "code",
      "metadata": {
        "colab": {
          "base_uri": "https://localhost:8080/"
        },
        "id": "DfTBM5gjU0Pt",
        "outputId": "6cf55456-4aa2-4a68-e738-e522c6fa9f1c"
      },
      "source": [
        "def input_fn(features, batch_size = 256):\n",
        "  # Convert the inputs to a Dataset without labels\n",
        "  return tf.data.Dataset.from_tensor_slices(dict(features)).batch(batch_size)\n",
        "\n",
        "features = ['SepalLength', 'SepalWidth', 'PetalLength', 'PetalWidth']\n",
        "predict = {}\n",
        "\n",
        "print('Please type numeric values as prompted.')\n",
        "for feature in features:\n",
        "  valid = True\n",
        "  while valid:\n",
        "    val = input(feature + \": \")\n",
        "    if not val.isdigit(): valid = False\n",
        "\n",
        "    predict[feature] = [float(val)]\n",
        "\n",
        "predictions = classifier.predict(input_fn = lambda: input_fn(predict))\n",
        "for pred_dict in predictions:\n",
        "  class_id = pred_dict['class_ids'][0]\n",
        "  probability = pred_dict['probabilities'][class_id]\n",
        "\n",
        "  print('Predictions is \"{}\" ({:.1f}%)'.format(SPEICES[class_id], 100 * probability))"
      ],
      "execution_count": 14,
      "outputs": [
        {
          "output_type": "stream",
          "text": [
            "Please type numeric values as prompted.\n",
            "SepalLength: 2.4\n",
            "SepalWidth: 2.6\n",
            "PetalLength: 6.5\n",
            "PetalWidth: 6.3\n",
            "INFO:tensorflow:Calling model_fn.\n",
            "INFO:tensorflow:Done calling model_fn.\n",
            "INFO:tensorflow:Graph was finalized.\n",
            "INFO:tensorflow:Restoring parameters from /tmp/tmpzh3ey7p1/model.ckpt-5000\n",
            "INFO:tensorflow:Running local_init_op.\n",
            "INFO:tensorflow:Done running local_init_op.\n",
            "Predictions is \"Versicolor\" (74.1%)\n"
          ],
          "name": "stdout"
        }
      ]
    }
  ]
}